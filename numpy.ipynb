{
 "cells": [
  {
   "cell_type": "markdown",
   "metadata": {},
   "source": [
    "# The numpy.random package"
   ]
  },
  {
   "cell_type": "markdown",
   "metadata": {},
   "source": [
    "1. Explain the overall purpose of the package.\n",
    "2. Explain the use of the “Simple random data” and “Permutations” functions.\n",
    "3. Explain the use and purpose of at least five “Distributions” functions.\n",
    "4. Explain the use of seeds in generating pseudorandom numbers."
   ]
  },
  {
   "cell_type": "markdown",
   "metadata": {},
   "source": [
    "1. Explain the overall use of the package.\n",
    "NumPy is a fundamental package for scientific computing in Python. The numPy random is a module within Python. The random module has many functions to achieve many tasks in computing. In this assignment, many of the functions of the numpy.random will be investigated. It is a general purpose program for processing arrays. It can be used as a multi dimentional container for data. "
   ]
  },
  {
   "cell_type": "markdown",
   "metadata": {},
   "source": [
    "2. Explain the ise of the \"Simple random data\" and \"Permutations\" functions.\n",
    "\n",
    "Simple Random Data\n",
    "Simple random sampling is a straight-forward approach to obtaining a random sample. It has many uses in data analytics. In total, there are 10 commands - rand, randn, randint, rand_integers, random_sample, random, ranf, sample, choice, bytes. Each command has a different function. \n",
    "\n",
    "Below is a detailed explanation of some of the commands in simple random data."
   ]
  },
  {
   "cell_type": "markdown",
   "metadata": {},
   "source": [
    "rand() returns a random set of values of a given shape"
   ]
  },
  {
   "cell_type": "code",
   "execution_count": 3,
   "metadata": {},
   "outputs": [
    {
     "data": {
      "text/plain": [
       "array([0.90895381, 0.05161495, 0.93466177])"
      ]
     },
     "execution_count": 3,
     "metadata": {},
     "output_type": "execute_result"
    }
   ],
   "source": [
    "import numpy as np\n",
    "np.random.rand(3) \n",
    "#np.random.rand(3) will output random numbers between [0.0,1)\n",
    "#This means that the numbers range in values starting at 0 up to be not including 1. "
   ]
  },
  {
   "cell_type": "markdown",
   "metadata": {},
   "source": [
    "Here there are 3 outputs"
   ]
  },
  {
   "cell_type": "code",
   "execution_count": 4,
   "metadata": {},
   "outputs": [
    {
     "data": {
      "text/plain": [
       "array([[0.59229202, 0.04614585],\n",
       "       [0.49936179, 0.31653018],\n",
       "       [0.92979034, 0.38357823]])"
      ]
     },
     "execution_count": 4,
     "metadata": {},
     "output_type": "execute_result"
    }
   ],
   "source": [
    "import numpy as np #Importing the numpy package\n",
    "np.random.rand(3,2) "
   ]
  },
  {
   "cell_type": "raw",
   "metadata": {},
   "source": [
    "Here the rand function has outputted 3 rows and 2 columns of floats. The range of the floats are [0.0,1)"
   ]
  },
  {
   "cell_type": "markdown",
   "metadata": {},
   "source": [
    "If another number was added to the input it will give another dimension to the output. "
   ]
  },
  {
   "cell_type": "code",
   "execution_count": 5,
   "metadata": {
    "scrolled": false
   },
   "outputs": [
    {
     "data": {
      "text/plain": [
       "array([[[0.5830282 , 0.56860906],\n",
       "        [0.84351253, 0.96153449],\n",
       "        [0.94398403, 0.2507977 ]],\n",
       "\n",
       "       [[0.47315046, 0.12785805],\n",
       "        [0.09928865, 0.75597414],\n",
       "        [0.26130347, 0.29117888]],\n",
       "\n",
       "       [[0.39622938, 0.23771821],\n",
       "        [0.40696074, 0.57275378],\n",
       "        [0.79835165, 0.12749922]],\n",
       "\n",
       "       [[0.0407743 , 0.52027993],\n",
       "        [0.19871085, 0.34601102],\n",
       "        [0.91921083, 0.04698605]]])"
      ]
     },
     "execution_count": 5,
     "metadata": {},
     "output_type": "execute_result"
    }
   ],
   "source": [
    "import numpy as np #Importing the numpy package\n",
    "np.random.rand(4,3,2)\n",
    "#This will give an array of 4x3x2 numbers which are in the range of [0.0,1) "
   ]
  },
  {
   "cell_type": "markdown",
   "metadata": {},
   "source": [
    "randn() returns a sample(s) from the \"standard normal\" distribution"
   ]
  },
  {
   "cell_type": "code",
   "execution_count": 17,
   "metadata": {},
   "outputs": [
    {
     "data": {
      "text/plain": [
       "array([ 1.07154215, -1.14986562,  0.40945977])"
      ]
     },
     "execution_count": 17,
     "metadata": {},
     "output_type": "execute_result"
    }
   ],
   "source": [
    "import numpy as np #Importing the numpy package\n",
    "np.random.randn(3) #Generate 3 random numbers"
   ]
  },
  {
   "cell_type": "code",
   "execution_count": 8,
   "metadata": {},
   "outputs": [
    {
     "data": {
      "text/plain": [
       "array([[ 1.25773463, -0.77185144,  1.92138631],\n",
       "       [-0.85850267,  0.00388485,  0.09178102],\n",
       "       [-1.1877637 , -1.46994577, -0.81022596],\n",
       "       [-0.7090239 ,  0.51341764,  1.65206405]])"
      ]
     },
     "execution_count": 8,
     "metadata": {},
     "output_type": "execute_result"
    }
   ],
   "source": [
    "import numpy as np #Importing the numpy package\n",
    "np.random.randn(4,3)"
   ]
  },
  {
   "cell_type": "markdown",
   "metadata": {},
   "source": [
    "np.random.randn outputs an array of 4x3. These are random floats, both positive and negative."
   ]
  },
  {
   "cell_type": "code",
   "execution_count": 10,
   "metadata": {},
   "outputs": [
    {
     "data": {
      "text/plain": [
       "array([[-1.95381307,  0.3378748 ],\n",
       "       [-0.58724459, -1.89345493],\n",
       "       [-1.20908866, -0.95291338]])"
      ]
     },
     "execution_count": 10,
     "metadata": {},
     "output_type": "execute_result"
    }
   ],
   "source": [
    "import numpy as np\n",
    "np.random.randn(3,2)"
   ]
  },
  {
   "cell_type": "markdown",
   "metadata": {},
   "source": [
    "randint returns random integer from low (inclusive) to high (exclusive)"
   ]
  },
  {
   "cell_type": "code",
   "execution_count": 25,
   "metadata": {},
   "outputs": [
    {
     "data": {
      "text/plain": [
       "9"
      ]
     },
     "execution_count": 25,
     "metadata": {},
     "output_type": "execute_result"
    }
   ],
   "source": [
    "import numpy as np #importing the numpy package\n",
    "np.random.randint(3,15) #randint will ouput a random integer in the range [3,9)"
   ]
  },
  {
   "cell_type": "code",
   "execution_count": 26,
   "metadata": {},
   "outputs": [
    {
     "data": {
      "text/plain": [
       "-1"
      ]
     },
     "execution_count": 26,
     "metadata": {},
     "output_type": "execute_result"
    }
   ],
   "source": [
    "import numpy as np #importing the numpy package\n",
    "np.random.randint(-6,6)"
   ]
  },
  {
   "cell_type": "markdown",
   "metadata": {},
   "source": [
    "randint(low,high) outputs a single random integer which can include the lowest number but will exclude the higher number. In the two examples shown the range of outputs could be integers [3,15) (including 3, excluding 15) and [-6,6) (including -6 and excluding 6) respectively. "
   ]
  },
  {
   "cell_type": "markdown",
   "metadata": {},
   "source": [
    "sample() returns random floats in the half open interval [0.0, 1.0)"
   ]
  },
  {
   "cell_type": "code",
   "execution_count": 27,
   "metadata": {},
   "outputs": [
    {
     "data": {
      "text/plain": [
       "array([0.32743581, 0.34713773, 0.66921947, 0.58174294, 0.66366684])"
      ]
     },
     "execution_count": 27,
     "metadata": {},
     "output_type": "execute_result"
    }
   ],
   "source": [
    "import numpy as np #importing the numpy package\n",
    "np.random.sample(5) #Output a random sample of 5 floats [0.0,1)\n"
   ]
  },
  {
   "cell_type": "markdown",
   "metadata": {},
   "source": [
    "Permutations\n",
    "There are 2 different commands in this section - shuffle() and permutation()\n",
    "\n",
    "Below is a detailed explanation of these two commands. "
   ]
  },
  {
   "cell_type": "code",
   "execution_count": 43,
   "metadata": {},
   "outputs": [
    {
     "data": {
      "text/plain": [
       "array([ 0,  1,  2,  3,  4,  5,  6,  7,  8,  9, 10, 11])"
      ]
     },
     "execution_count": 43,
     "metadata": {},
     "output_type": "execute_result"
    }
   ],
   "source": [
    "import numpy as np #import the numpy package\n",
    "h = np.arange(12) #creating a range\n",
    "h"
   ]
  },
  {
   "cell_type": "code",
   "execution_count": 44,
   "metadata": {},
   "outputs": [
    {
     "data": {
      "text/plain": [
       "array([ 7,  0,  6,  8,  4, 10,  1, 11,  2,  3,  9,  5])"
      ]
     },
     "execution_count": 44,
     "metadata": {},
     "output_type": "execute_result"
    }
   ],
   "source": [
    "np.random.shuffle (h) #Shuffling the range of inputs from 0 (inclusive) to 12 (exclusive)\n",
    "h"
   ]
  },
  {
   "cell_type": "markdown",
   "metadata": {},
   "source": [
    "The array h is shuffled. The outputs of h are the same but in a different order."
   ]
  },
  {
   "cell_type": "code",
   "execution_count": 50,
   "metadata": {},
   "outputs": [
    {
     "data": {
      "text/plain": [
       "array([ 2, 10, 11,  5,  1,  0,  6,  8,  7,  4,  9,  3])"
      ]
     },
     "execution_count": 50,
     "metadata": {},
     "output_type": "execute_result"
    }
   ],
   "source": [
    "import numpy as np #import the numpy package\n",
    "b = np.arange(12) #creating the range\n",
    "np.random.permutation (b) #output a permuted array range"
   ]
  },
  {
   "cell_type": "markdown",
   "metadata": {},
   "source": [
    "Looking at multi dimensional array to show how it is shuffled along"
   ]
  },
  {
   "cell_type": "code",
   "execution_count": 52,
   "metadata": {},
   "outputs": [
    {
     "data": {
      "text/plain": [
       "array([[[0.04659069, 0.30404809],\n",
       "        [0.48935111, 0.65147437],\n",
       "        [0.66670752, 0.09688214]],\n",
       "\n",
       "       [[0.56704137, 0.05909469],\n",
       "        [0.5264783 , 0.92039292],\n",
       "        [0.5294789 , 0.87798364]],\n",
       "\n",
       "       [[0.5282798 , 0.90204742],\n",
       "        [0.36708682, 0.06394384],\n",
       "        [0.44223561, 0.51123359]],\n",
       "\n",
       "       [[0.71648421, 0.58627931],\n",
       "        [0.27757658, 0.75923366],\n",
       "        [0.23355609, 0.71954461]]])"
      ]
     },
     "execution_count": 52,
     "metadata": {},
     "output_type": "execute_result"
    }
   ],
   "source": [
    "import numpy as np #importing numpy package\n",
    "c = np.random.rand(4,3,2) # c is a random array of floats 4x3x2 in the range [0.0,1)\n",
    "c"
   ]
  },
  {
   "cell_type": "code",
   "execution_count": 53,
   "metadata": {},
   "outputs": [
    {
     "data": {
      "text/plain": [
       "array([[[0.56704137, 0.05909469],\n",
       "        [0.5264783 , 0.92039292],\n",
       "        [0.5294789 , 0.87798364]],\n",
       "\n",
       "       [[0.04659069, 0.30404809],\n",
       "        [0.48935111, 0.65147437],\n",
       "        [0.66670752, 0.09688214]],\n",
       "\n",
       "       [[0.5282798 , 0.90204742],\n",
       "        [0.36708682, 0.06394384],\n",
       "        [0.44223561, 0.51123359]],\n",
       "\n",
       "       [[0.71648421, 0.58627931],\n",
       "        [0.27757658, 0.75923366],\n",
       "        [0.23355609, 0.71954461]]])"
      ]
     },
     "execution_count": 53,
     "metadata": {},
     "output_type": "execute_result"
    }
   ],
   "source": [
    "np.random.shuffle (c) #shuffles the array of floats\n",
    "c"
   ]
  },
  {
   "cell_type": "code",
   "execution_count": 54,
   "metadata": {},
   "outputs": [
    {
     "data": {
      "text/plain": [
       "array([[[0.56704137, 0.05909469],\n",
       "        [0.5264783 , 0.92039292],\n",
       "        [0.5294789 , 0.87798364]],\n",
       "\n",
       "       [[0.04659069, 0.30404809],\n",
       "        [0.48935111, 0.65147437],\n",
       "        [0.66670752, 0.09688214]],\n",
       "\n",
       "       [[0.5282798 , 0.90204742],\n",
       "        [0.36708682, 0.06394384],\n",
       "        [0.44223561, 0.51123359]],\n",
       "\n",
       "       [[0.71648421, 0.58627931],\n",
       "        [0.27757658, 0.75923366],\n",
       "        [0.23355609, 0.71954461]]])"
      ]
     },
     "execution_count": 54,
     "metadata": {},
     "output_type": "execute_result"
    }
   ],
   "source": [
    "np.random.permutation (c) #output is a permuted array of floats\n",
    "c"
   ]
  },
  {
   "cell_type": "markdown",
   "metadata": {},
   "source": [
    "3. Explain the use and purpose of at least five \"Distributions\" functions.\n",
    "Distributions\n",
    "There are over 30 distribution commands"
   ]
  },
  {
   "cell_type": "markdown",
   "metadata": {},
   "source": [
    "1. binomial draws samples for a binomial distribution\n",
    "The np.random.binomial function returns an array of random sample from a population using a binomial distribution based on the parameters (for example tossing a coin). \n",
    "For np.random.binomial the parameters that are set are n = number of trials per observation, p = probability of success in a trial and size = the number of observations"
   ]
  },
  {
   "cell_type": "code",
   "execution_count": 54,
   "metadata": {},
   "outputs": [
    {
     "data": {
      "image/png": "[encoded data removed]",
      "text/plain": [
       "<Figure size 432x288 with 1 Axes>"
      ]
     },
     "metadata": {
      "needs_background": "light"
     },
     "output_type": "display_data"
    }
   ],
   "source": [
    "#Importing packages needed to draw a binomial distribution\n",
    "import numpy as np #importing numpy package\n",
    "import pandas as pd #importing pandas package\n",
    "import matplotlib.pyplot as plt #importing matplotlib package\n",
    "np.random.binomial(n=50, p=0.25) #n=number of trials, p=probability of success\n",
    "x=np.random.binomial(n=50, p=0.25, size=1000)\n",
    "plt.hist(x)\n",
    "plt.show() # plotting the histogram for the binomial distribution x"
   ]
  },
  {
   "cell_type": "markdown",
   "metadata": {},
   "source": [
    "2. Exponential Distribution\n",
    "Exponetial distribution is a popular method of displaying data. It is often used to display the time lapsed between two events."
   ]
  },
  {
   "cell_type": "code",
   "execution_count": 56,
   "metadata": {},
   "outputs": [
    {
     "data": {
      "text/plain": [
       "<function matplotlib.pyplot.show(*args, **kw)>"
      ]
     },
     "execution_count": 56,
     "metadata": {},
     "output_type": "execute_result"
    },
    {
     "data": {
      "image/png": "[encoded data removed]",
      "text/plain": [
       "<Figure size 432x288 with 1 Axes>"
      ]
     },
     "metadata": {
      "needs_background": "light"
     },
     "output_type": "display_data"
    }
   ],
   "source": [
    "#importing packages needed to draw exponential graph\n",
    "import numpy as np #importing numpy package\n",
    "import matplotlib.pyplot as plt #importing matplotlib package\n",
    "np.random.exponential(scale=10.0, size=1000)\n",
    "t=np.random.exponential(scale=10.0, size=1000) #setting the parameters\n",
    "plt.hist(t)\n",
    "plt.show #plotting the histogram for the exponential distribution t"
   ]
  },
  {
   "cell_type": "markdown",
   "metadata": {},
   "source": [
    "3. Normal Distribution\n",
    "Normal distribution, also known as Gaussian distribution. It is a probability distribution that shows data near or around the mean. Normal distributions are often known as a bell curve due to its shape. It is often used in statistical studies in natural and social science."
   ]
  },
  {
   "cell_type": "code",
   "execution_count": 59,
   "metadata": {},
   "outputs": [
    {
     "data": {
      "image/png": "[encoded data removed]",
      "text/plain": [
       "<Figure size 432x288 with 1 Axes>"
      ]
     },
     "metadata": {
      "needs_background": "light"
     },
     "output_type": "display_data"
    }
   ],
   "source": [
    "#importing packages needed to draw normal distribution\n",
    "import numpy as np #importing numpy package\n",
    "import matplotlib.pyplot as plt #importing matplotlib package\n",
    "n=np.random.normal(0.0, 10, 1000) #setting the parameters\n",
    "plt.hist(n)\n",
    "plt.show() #plotting the histogram for the normal distibution n"
   ]
  },
  {
   "cell_type": "markdown",
   "metadata": {},
   "source": [
    "4. Geometric Distribution\n",
    "Geometric distribution display the Bernoulli trial. Bernoulli trials are experiments which results in a success or failure. The geometric distribution models the number of trials that must be run in order to achieve success. The parameters of the distribution are p = the probability of success and size = number of observations."
   ]
  },
  {
   "cell_type": "code",
   "execution_count": 60,
   "metadata": {},
   "outputs": [
    {
     "data": {
      "image/png": "[encoded data removed]",
      "text/plain": [
       "<Figure size 432x288 with 1 Axes>"
      ]
     },
     "metadata": {
      "needs_background": "light"
     },
     "output_type": "display_data"
    }
   ],
   "source": [
    "#importing packages needed to draw a geometric distribution\n",
    "import numpy as np #importing numpy package\n",
    "import matplotlib.pyplot as plt #importing matplotlib package\n",
    "r=np.random.geometric(p=0.25, size=1000) #setting the parameters\n",
    "plt.hist(r)\n",
    "plt.show() #plotting the histogram for the geometric distribution r"
   ]
  },
  {
   "cell_type": "markdown",
   "metadata": {},
   "source": [
    "5. Poisson Distribution\n",
    "The Poisson distribution is named after a French mathematician Simeon Denis Poisson. The Poisson distribution can also be used for the number of events such as distance, area or volume."
   ]
  },
  {
   "cell_type": "code",
   "execution_count": 25,
   "metadata": {},
   "outputs": [
    {
     "data": {
      "image/png": "[encoded data removed]",
      "text/plain": [
       "<Figure size 432x288 with 1 Axes>"
      ]
     },
     "metadata": {
      "needs_background": "light"
     },
     "output_type": "display_data"
    }
   ],
   "source": [
    "#importing packages needed to draw a poisson distribution\n",
    "import numpy as np #importing numpy package\n",
    "import matplotlib.pyplot as plt #importing matplotlib \n",
    "z=np.random.poisson(20, 1000)\n",
    "plt.hist(z)\n",
    "plt.show() #plotting the histogram for the Poisson distribution"
   ]
  },
  {
   "cell_type": "markdown",
   "metadata": {},
   "source": [
    "4. Explain the use of seeds in generating pseudorandom numbers.\n",
    "The seed during random number generation is actually the starting point in the sequence. A seed allows you to reproduce a random number sequence. If we use same seed every time, it outputs same sequence of random numbers. It outputs the numbers from some value. \"This value is nothing but a seed value. i.e. The random module uses the seed value as a base to generate a random number.\""
   ]
  },
  {
   "cell_type": "code",
   "execution_count": 35,
   "metadata": {},
   "outputs": [
    {
     "name": "stdout",
     "output_type": "stream",
     "text": [
      "[5 8 9 5 0 0 1 7 6 9 2 4 5 2 4 2 4 7 7 9]\n"
     ]
    }
   ],
   "source": [
    "#Generating an array of random numbers using numpy seed and randint functions\n",
    "import numpy as np #importing numpy package\n",
    "np.random.seed(1)\n",
    "k=np.random.randint(low=0, high=10, size=20) #setting the parameters\n",
    "print(k) #output"
   ]
  },
  {
   "cell_type": "code",
   "execution_count": 40,
   "metadata": {},
   "outputs": [
    {
     "name": "stdout",
     "output_type": "stream",
     "text": [
      "[5 8 9 5 0 0 1 7 6 9 2 4 5 2 4 2 4 7 7 9]\n"
     ]
    }
   ],
   "source": [
    "import numpy as np #importing numpy package\n",
    "np.random.seed(1) #keeping the seed the same to see if the output changes\n",
    "v=np.random.randint(low=0, high=10, size=20) #setting the parameters\n",
    "print(v) #output will be the same as the output for k"
   ]
  },
  {
   "cell_type": "code",
   "execution_count": 42,
   "metadata": {},
   "outputs": [
    {
     "name": "stdout",
     "output_type": "stream",
     "text": [
      "[9 3 4 0 9 1 9 1 4 1 8 2 4 2 5 9 6 2 5 5]\n"
     ]
    }
   ],
   "source": [
    "import numpy as np #importing numpy package\n",
    "np.random.seed(6) #changing the seed to see if the output changes\n",
    "u=np.random.randint(low=0, high=10, size=20) #setting the parameters\n",
    "print(u) #expect the output to be different to that of k and v"
   ]
  },
  {
   "cell_type": "code",
   "execution_count": null,
   "metadata": {},
   "outputs": [],
   "source": []
  }
 ],
 "metadata": {
  "kernelspec": {
   "display_name": "Python 3",
   "language": "python",
   "name": "python3"
  },
  "language_info": {
   "codemirror_mode": {
    "name": "ipython",
    "version": 3
   },
   "file_extension": ".py",
   "mimetype": "text/x-python",
   "name": "python",
   "nbconvert_exporter": "python",
   "pygments_lexer": "ipython3",
   "version": "3.7.1"
  }
 },
 "nbformat": 4,
 "nbformat_minor": 2
}

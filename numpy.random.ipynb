{
 "cells": [
  {
   "cell_type": "markdown",
   "metadata": {},
   "source": [
    "The numpy.random package"
   ]
  },
  {
   "cell_type": "code",
   "execution_count": 3,
   "metadata": {},
   "outputs": [
    {
     "data": {
      "text/plain": [
       "array([0.90895381, 0.05161495, 0.93466177])"
      ]
     },
     "execution_count": 3,
     "metadata": {},
     "output_type": "execute_result"
    }
   ],
   "source": [
    "import numpy as np\n",
    "np.random.rand(3) \n",
    "#np.random.rand(3) will output random numbers between (0,1] \n",
    "#This means that the numbers range in values starting at 0 up to be not including 1. "
   ]
  },
  {
   "cell_type": "markdown",
   "metadata": {},
   "source": [
    "Here there are 3 outputs"
   ]
  },
  {
   "cell_type": "code",
   "execution_count": 4,
   "metadata": {},
   "outputs": [
    {
     "data": {
      "text/plain": [
       "array([[0.59229202, 0.04614585],\n",
       "       [0.49936179, 0.31653018],\n",
       "       [0.92979034, 0.38357823]])"
      ]
     },
     "execution_count": 4,
     "metadata": {},
     "output_type": "execute_result"
    }
   ],
   "source": [
    "import numpy as np\n",
    "np.random.rand(3,2)"
   ]
  },
  {
   "cell_type": "raw",
   "metadata": {},
   "source": [
    "Here the rand function has outputted 3 rows and 2 columns of numbers. The range of these numbers are (0.1]"
   ]
  },
  {
   "cell_type": "markdown",
   "metadata": {},
   "source": [
    "If another number was added to the input it will give another dimension to the output. "
   ]
  },
  {
   "cell_type": "code",
   "execution_count": 5,
   "metadata": {
    "scrolled": false
   },
   "outputs": [
    {
     "data": {
      "text/plain": [
       "array([[[0.5830282 , 0.56860906],\n",
       "        [0.84351253, 0.96153449],\n",
       "        [0.94398403, 0.2507977 ]],\n",
       "\n",
       "       [[0.47315046, 0.12785805],\n",
       "        [0.09928865, 0.75597414],\n",
       "        [0.26130347, 0.29117888]],\n",
       "\n",
       "       [[0.39622938, 0.23771821],\n",
       "        [0.40696074, 0.57275378],\n",
       "        [0.79835165, 0.12749922]],\n",
       "\n",
       "       [[0.0407743 , 0.52027993],\n",
       "        [0.19871085, 0.34601102],\n",
       "        [0.91921083, 0.04698605]]])"
      ]
     },
     "execution_count": 5,
     "metadata": {},
     "output_type": "execute_result"
    }
   ],
   "source": [
    "import numpy as np\n",
    "np.random.rand(4,3,2)"
   ]
  }
 ],
 "metadata": {
  "kernelspec": {
   "display_name": "Python 3",
   "language": "python",
   "name": "python3"
  },
  "language_info": {
   "codemirror_mode": {
    "name": "ipython",
    "version": 3
   },
   "file_extension": ".py",
   "mimetype": "text/x-python",
   "name": "python",
   "nbconvert_exporter": "python",
   "pygments_lexer": "ipython3",
   "version": "3.7.1"
  }
 },
 "nbformat": 4,
 "nbformat_minor": 2
}
